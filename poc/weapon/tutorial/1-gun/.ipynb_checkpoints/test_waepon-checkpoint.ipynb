{
 "cells": [
  {
   "cell_type": "code",
   "execution_count": 3,
   "metadata": {},
   "outputs": [],
   "source": [
    "import numpy as np\n",
    "import cv2\n",
    "import imutils\n",
    "import datetime"
   ]
  },
  {
   "cell_type": "code",
   "execution_count": 31,
   "metadata": {},
   "outputs": [
    {
     "name": "stdout",
     "output_type": "stream",
     "text": [
      "guns detected\n"
     ]
    }
   ],
   "source": [
    "gun_cascade = cv2.CascadeClassifier('cascade.xml')\n",
    "# gun_cascade = cv2.CascadeClassifier('cascade-2.xml')\n",
    "# camera = cv2.VideoCapture('data/gun4_2.mp4')\n",
    "# camera = cv2.VideoCapture('data/test-weapon.mp4')\n",
    "camera = cv2.VideoCapture('data/t1.mp4')\n",
    "\n",
    "\n",
    "# initialize the first frame in the video stream\n",
    "firstFrame = None\n",
    "\n",
    "# loop over the frames of the video\n",
    "\n",
    "gun_exist = False\n",
    "\n",
    "while True:\n",
    "    (grabbed, frame) = camera.read()\n",
    "\n",
    "    # if the frame could not be grabbed, then we have reached the end of the video\n",
    "    if not grabbed:\n",
    "        break\n",
    "\n",
    "    # resize the frame, convert it to grayscale, and blur it\n",
    "    frame = imutils.resize(frame, width=500)\n",
    "    gray = cv2.cvtColor(frame, cv2.COLOR_BGR2GRAY)\n",
    "    gray = cv2.GaussianBlur(gray, (21, 21), 0)\n",
    "    \n",
    "    gun = gun_cascade.detectMultiScale(gray, scaleFactor=1.3,minNeighbors=10, minSize = (100, 100))\n",
    "#     gun = gun_cascade.detectMultiScale(gray, 1.3,minNeighbors=5, minSize = (100, 100))\n",
    "    \n",
    "    if len(gun) > 0:\n",
    "        gun_exist = True\n",
    "        \n",
    "    for (x,y,w,h) in gun:\n",
    "        frame = cv2.rectangle(frame,(x,y),(x+int(w),y+int(h/2)),(255,0,0),2)\n",
    "#         roi_gray = gray[y:y+h, x:x+w]\n",
    "#         roi_color = frame[y:y+h, x:x+w]    \n",
    "\n",
    "    # if the first frame is None, initialize it\n",
    "    if firstFrame is None:\n",
    "        firstFrame = gray\n",
    "        continue\n",
    "\n",
    "    # draw the text and timestamp on the frame\n",
    "    cv2.putText(frame, datetime.datetime.now().strftime(\"%A %d %B %Y %I:%M:%S%p\"),\n",
    "                    (10, frame.shape[0] - 10), cv2.FONT_HERSHEY_SIMPLEX, 0.35, (0, 0, 255), 1)\n",
    "\n",
    "    # show the frame and record if the user presses a key\n",
    "    cv2.imshow(\"Security Feed\", frame)\n",
    "    if (cv2.waitKey(1)== 27):       # press ESC to quit\n",
    "        break\n",
    "\n",
    "if gun_exist:\n",
    "    print(\"guns detected\")\n",
    "else:\n",
    "    print(\"guns NOT detected\")\n",
    "\n",
    "# cleanup the camera and close any open windows\n",
    "camera.release()\n",
    "cv2.destroyAllWindows()"
   ]
  }
 ],
 "metadata": {
  "kernelspec": {
   "display_name": "Python 3",
   "language": "python",
   "name": "python3"
  },
  "language_info": {
   "codemirror_mode": {
    "name": "ipython",
    "version": 3
   },
   "file_extension": ".py",
   "mimetype": "text/x-python",
   "name": "python",
   "nbconvert_exporter": "python",
   "pygments_lexer": "ipython3",
   "version": "3.6.8"
  }
 },
 "nbformat": 4,
 "nbformat_minor": 2
}
