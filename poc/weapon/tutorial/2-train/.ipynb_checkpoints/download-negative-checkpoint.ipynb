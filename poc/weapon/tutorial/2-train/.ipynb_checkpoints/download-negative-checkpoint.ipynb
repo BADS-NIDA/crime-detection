{
 "cells": [
  {
   "cell_type": "code",
   "execution_count": null,
   "metadata": {},
   "outputs": [],
   "source": [
    "import urllib.request\n",
    "import cv2\n",
    "import os\n",
    "\n",
    "def store_raw_images_neg():\n",
    "    neg_images_link = 'http://image-net.org/api/text/imagenet.synset.geturls?wnid=n03467984'\n",
    "    neg_image_urls = urllib.request.urlopen(neg_images_link).read().decode()\n",
    "    pic_num = 1#แก้เป็นไฟล์ถัดจากลำดับสุดท้ายของ neg\n",
    " \n",
    "    if not os.path.exists('neg'):\n",
    "        os.makedirs('neg')\n",
    " \n",
    "    for i in neg_image_urls.split('\\n'):\n",
    "        try:\n",
    "            print(i)\n",
    "            urllib.request.urlretrieve(i, \"neg/\"+str(pic_num)+\".jpg\")\n",
    "            img = cv2.imread(\"neg/\"+str(pic_num)+\".jpg\",cv2.IMREAD_GRAYSCALE)\n",
    "            \n",
    "            # should be larger than samples / pos pic (so we can place our image on it)\n",
    "            resized_image = cv2.resize(img, (100, 100))\n",
    "            cv2.imwrite(\"neg/\"+str(pic_num)+\".jpg\",resized_image)\n",
    "            pic_num += 1\n",
    "\n",
    "        except Exception as e:\n",
    "            print(str(e))\n",
    "    \n",
    "store_raw_images_neg()"
   ]
  }
 ],
 "metadata": {
  "kernelspec": {
   "display_name": "Python 3",
   "language": "python",
   "name": "python3"
  },
  "language_info": {
   "codemirror_mode": {
    "name": "ipython",
    "version": 3
   },
   "file_extension": ".py",
   "mimetype": "text/x-python",
   "name": "python",
   "nbconvert_exporter": "python",
   "pygments_lexer": "ipython3",
   "version": "3.6.8"
  }
 },
 "nbformat": 4,
 "nbformat_minor": 2
}
